{
 "cells": [
  {
   "cell_type": "code",
   "execution_count": 2,
   "id": "6f9a38eb-1e26-4750-ad69-8243fd14fbae",
   "metadata": {},
   "outputs": [],
   "source": [
    "import pandas as pd\n",
    "import numpy as np\n",
    "pd.options.display.max_rows = 50"
   ]
  },
  {
   "cell_type": "code",
   "execution_count": 5,
   "id": "d4a1d53d-12d0-4cb5-8220-4e1c923d3129",
   "metadata": {},
   "outputs": [],
   "source": [
    "df = pd.read_csv('https://datasets.imdbws.com/title.principals.tsv.gz', sep = '\\t' )"
   ]
  },
  {
   "cell_type": "code",
   "execution_count": null,
   "id": "399ca155-b14a-4ccb-859a-b8477a085af7",
   "metadata": {},
   "outputs": [],
   "source": []
  }
 ],
 "metadata": {
  "kernelspec": {
   "display_name": "Python 3 (ipykernel)",
   "language": "python",
   "name": "python3"
  },
  "language_info": {
   "codemirror_mode": {
    "name": "ipython",
    "version": 3
   },
   "file_extension": ".py",
   "mimetype": "text/x-python",
   "name": "python",
   "nbconvert_exporter": "python",
   "pygments_lexer": "ipython3",
   "version": "3.11.8"
  }
 },
 "nbformat": 4,
 "nbformat_minor": 5
}
